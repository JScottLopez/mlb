{
  "nbformat": 4,
  "nbformat_minor": 0,
  "metadata": {
    "colab": {
      "name": "MLB Pitch Types.ipynb",
      "provenance": [],
      "authorship_tag": "ABX9TyOXN6jq+xom4/iaW+ykkMUX",
      "include_colab_link": true
    },
    "kernelspec": {
      "name": "python3",
      "display_name": "Python 3"
    },
    "language_info": {
      "name": "python"
    }
  },
  "cells": [
    {
      "cell_type": "markdown",
      "metadata": {
        "id": "view-in-github",
        "colab_type": "text"
      },
      "source": [
        "<a href=\"https://colab.research.google.com/github/JScottLopez/mlb/blob/main/MLB_Pitch_Types.ipynb\" target=\"_parent\"><img src=\"https://colab.research.google.com/assets/colab-badge.svg\" alt=\"Open In Colab\"/></a>"
      ]
    },
    {
      "cell_type": "markdown",
      "source": [
        "Title: MLB Pitch Classification\n",
        "\n",
        "Authored By: Joseph Scott Lopez\n",
        "Date: 8/19/2022\n",
        "\n",
        "Description:\n",
        "\n",
        "This notebook compares two classification algorithms using pitching data from MLB pitcher Joe Musgrove. The first is the Naive Bayes algorithm followed by K-Means Clustering.\n"
      ],
      "metadata": {
        "id": "NRohxhTl2geu"
      }
    },
    {
      "cell_type": "code",
      "execution_count": 24,
      "metadata": {
        "id": "vwIPSdh42DVt"
      },
      "outputs": [],
      "source": [
        "#Install necessary packages\n",
        "import rpy2\n",
        "import rpy2.robjects as robjects\n",
        "from rpy2.robjects.packages import importr\n",
        "base = importr('base')\n",
        "utils = importr('utils')\n",
        "\n",
        "import rpy2.robjects.packages as rpackages\n",
        "utils = rpackages.importr('utils')\n",
        "utils.chooseCRANmirror(ind=1)\n",
        "\n",
        "packnames = ('moments','ggpubr','NbClust','factoextra','caret','e1071')"
      ]
    },
    {
      "cell_type": "code",
      "source": [
        "#Import dataset\n",
        "%%R\n",
        "library(readr);\n",
        "Joe_Musgrove <- read_csv(\"Joe_Musgrove.csv\")"
      ],
      "metadata": {
        "id": "j9HmQ6Qu4Wzm",
        "outputId": "8821ebee-11b3-40a2-a2fe-5686fcd8925c",
        "colab": {
          "base_uri": "https://localhost:8080/"
        }
      },
      "execution_count": 25,
      "outputs": [
        {
          "output_type": "stream",
          "name": "stdout",
          "text": [
            "New names:\n",
            "• `vs Avg` -> `vs Avg...8`\n",
            "• `vs Avg` -> `vs Avg...11`\n",
            "Rows: 41 Columns: 12\n",
            "── Column specification ────────────────────────────────────────────────────────\n",
            "Delimiter: \",\"\n",
            "chr (3): Pitch, Team, Hand\n",
            "dbl (9): Year, #, MPH, Inches of Drop, vs Avg...8, % vs Avg, Inches of Break...\n",
            "\n",
            "ℹ Use `spec()` to retrieve the full column specification for this data.\n",
            "ℹ Specify the column types or set `show_col_types = FALSE` to quiet this message.\n"
          ]
        }
      ]
    },
    {
      "cell_type": "code",
      "source": [
        "%%R\n",
        "head(Joe_Musgrove)"
      ],
      "metadata": {
        "id": "5Hc0gRct_hCz",
        "outputId": "a49830bb-0b27-458b-a486-504f550212e1",
        "colab": {
          "base_uri": "https://localhost:8080/"
        }
      },
      "execution_count": 27,
      "outputs": [
        {
          "output_type": "stream",
          "name": "stdout",
          "text": [
            "# A tibble: 6 × 12\n",
            "   Year Pitch   Team  Hand    `#`   MPH `Inches of Drop` `vs Avg...8` `% vs Avg`\n",
            "  <dbl> <chr>   <chr> <chr> <dbl> <dbl>            <dbl>        <dbl>      <dbl>\n",
            "1  2016 Change…  HOU  R        82  82.9             36.7          7.1         24\n",
            "2  2016 Curveb…  HOU  R        77  78.6             59.7          5.9         11\n",
            "3  2016 4-Seam…  HOU  R       396  92.4             19.4         -5.4        -38\n",
            "4  2016 Sinker   HOU  R        75  90.6             27.6          7.4         37\n",
            "5  2016 Slider   HOU  R       349  82.3             43.8          6.5         18\n",
            "6  2017 Slider   HOU  R       484  83.2             42.1          4.7         12\n",
            "# … with 3 more variables: `Inches of Break` <dbl>, `vs Avg...11` <dbl>,\n",
            "#   `% Break vs Avg` <dbl>\n"
          ]
        }
      ]
    },
    {
      "cell_type": "code",
      "source": [
        "%%R\n",
        "#Assign values to system variables and check for N/A's and if they are numeric\n",
        "mph<-Joe_Musgrove$MPH;\n",
        "inches_drop<-Joe_Musgrove$'Inches of Drop'\n",
        "inches_break<-Joe_Musgrove$'Inches of Break'"
      ],
      "metadata": {
        "id": "IR28lGgnAhYI",
        "outputId": "6df980d6-16a9-469d-ad75-e1e657378941",
        "colab": {
          "base_uri": "https://localhost:8080/"
        }
      },
      "execution_count": 31,
      "outputs": [
        {
          "output_type": "execute_result",
          "data": {
            "text/plain": [
              "array([10.5,  9.4,  4.4, 10.9, 11.8,  9.8, 13. ,  6.2, 13.1,  1.6,  7.9,\n",
              "        3.2, 10.5,  9.7,  5.6,  6.3,  4.5,  7.1,  3.1,  6.9,  5.2, 11.6,\n",
              "       10.6, 10.7,  2.7, 13.5, 11.3,  5.6, 13.1, 11. ,  1.7, 14. , 10.5,\n",
              "        9.2,  5. ,  4.3, 10.6, 12.7,  1.5,  8.8, 13.1])"
            ]
          },
          "metadata": {},
          "execution_count": 31
        }
      ]
    },
    {
      "cell_type": "code",
      "source": [
        "%%R\n",
        "#Calculate descriptive statistics for mph\n",
        "summary(mph)"
      ],
      "metadata": {
        "id": "mKT6o8VAA2LW",
        "outputId": "e8ad6900-ef98-42a1-e410-783d73c3704b",
        "colab": {
          "base_uri": "https://localhost:8080/"
        }
      },
      "execution_count": 30,
      "outputs": [
        {
          "output_type": "stream",
          "name": "stdout",
          "text": [
            "   Min. 1st Qu.  Median    Mean 3rd Qu.    Max. \n",
            "  78.60   82.90   87.10   87.29   92.00   93.50 \n"
          ]
        }
      ]
    },
    {
      "cell_type": "code",
      "source": [
        "%%R\n",
        "summary(inches_drop)"
      ],
      "metadata": {
        "id": "T6Xa7vF4B_QC",
        "outputId": "a56f19f8-a713-48dd-aa21-371ceae5c7bf",
        "colab": {
          "base_uri": "https://localhost:8080/"
        }
      },
      "execution_count": 33,
      "outputs": [
        {
          "output_type": "stream",
          "name": "stdout",
          "text": [
            "   Min. 1st Qu.  Median    Mean 3rd Qu.    Max. \n",
            "  18.40   25.20   31.50   33.71   41.50   59.70 \n"
          ]
        }
      ]
    },
    {
      "cell_type": "code",
      "source": [
        "%%R\n",
        "summary(inches_break)"
      ],
      "metadata": {
        "id": "emSLY1b28KyI"
      },
      "execution_count": null,
      "outputs": []
    },
    {
      "cell_type": "code",
      "source": [
        "%%R\n",
        "boxplot(inches_drop,inches_break, main=\"Inches Drop vs Inches Break\", names=c(\"Inches Drop\",\"Inches Break\"))"
      ],
      "metadata": {
        "id": "YHVfj_7N8K6K",
        "outputId": "b6153422-fdbd-42f1-88dc-310e5852bb64",
        "colab": {
          "base_uri": "https://localhost:8080/",
          "height": 497
        }
      },
      "execution_count": 35,
      "outputs": [
        {
          "output_type": "display_data",
          "data": {
            "image/png": "[encoded data removed]"
          },
          "metadata": {}
        }
      ]
    },
    {
      "cell_type": "code",
      "source": [
        "%%R\n",
        "hist(inches_drop, col='red', main=\"Inches Drop vs Inches Break\")\n",
        "hist(inches_break, col='blue', add=TRUE)"
      ],
      "metadata": {
        "id": "8M61viXu8K8o",
        "outputId": "452d1f3a-a145-4196-8e3c-0d0ebdc2e5d7",
        "colab": {
          "base_uri": "https://localhost:8080/",
          "height": 497
        }
      },
      "execution_count": 37,
      "outputs": [
        {
          "output_type": "display_data",
          "data": {
            "image/png": "[encoded data removed]"
          },
          "metadata": {}
        }
      ]
    },
    {
      "cell_type": "code",
      "source": [
        "%%R\n",
        "inches_drop_d<-density(inches_drop)\n",
        "inches_break_d<-density(inches_break)"
      ],
      "metadata": {
        "id": "tDYnNWdy8K_R"
      },
      "execution_count": 39,
      "outputs": []
    },
    {
      "cell_type": "code",
      "source": [
        "%%R\n",
        "plot(inches_drop_d, col='red', main=\"Inches Drop vs Inches Break\")\n",
        "lines(inches_break_d, col='blue')"
      ],
      "metadata": {
        "id": "r516FmcC8LBp",
        "outputId": "1e65cfd9-60b1-4b30-b87e-2e99bee779d2",
        "colab": {
          "base_uri": "https://localhost:8080/",
          "height": 497
        }
      },
      "execution_count": 40,
      "outputs": [
        {
          "output_type": "display_data",
          "data": {
            "image/png": "[encoded data removed]"
          },
          "metadata": {}
        }
      ]
    },
    {
      "cell_type": "code",
      "source": [],
      "metadata": {
        "id": "l_blbpR18LEM"
      },
      "execution_count": null,
      "outputs": []
    },
    {
      "cell_type": "code",
      "source": [],
      "metadata": {
        "id": "AzgWfx2C8LGi"
      },
      "execution_count": null,
      "outputs": []
    },
    {
      "cell_type": "code",
      "source": [],
      "metadata": {
        "id": "BhhhaHk_8LJU"
      },
      "execution_count": null,
      "outputs": []
    },
    {
      "cell_type": "code",
      "source": [],
      "metadata": {
        "id": "RjBNyAc28LLy"
      },
      "execution_count": null,
      "outputs": []
    },
    {
      "cell_type": "code",
      "source": [],
      "metadata": {
        "id": "L1cN85aN8LOZ"
      },
      "execution_count": null,
      "outputs": []
    },
    {
      "cell_type": "code",
      "source": [],
      "metadata": {
        "id": "hFet2As48LQ3"
      },
      "execution_count": null,
      "outputs": []
    },
    {
      "cell_type": "code",
      "source": [],
      "metadata": {
        "id": "ktTHesoN8LTi"
      },
      "execution_count": null,
      "outputs": []
    },
    {
      "cell_type": "code",
      "source": [],
      "metadata": {
        "id": "TOeYw1OC8LWS"
      },
      "execution_count": null,
      "outputs": []
    },
    {
      "cell_type": "code",
      "source": [],
      "metadata": {
        "id": "CoiEK3KN8LZA"
      },
      "execution_count": null,
      "outputs": []
    }
  ]
}